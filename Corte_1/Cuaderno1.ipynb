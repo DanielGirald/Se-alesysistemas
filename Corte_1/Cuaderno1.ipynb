{
  "nbformat": 4,
  "nbformat_minor": 0,
  "metadata": {
    "colab": {
      "provenance": [],
      "include_colab_link": true
    },
    "kernelspec": {
      "name": "python3",
      "display_name": "Python 3"
    }
  },
  "cells": [
    {
      "cell_type": "markdown",
      "metadata": {
        "id": "view-in-github",
        "colab_type": "text"
      },
      "source": [
        "<a href=\"https://colab.research.google.com/github/DanielGirald/Senalesysistemas/blob/main/Corte_1/Cuaderno1.ipynb\" target=\"_parent\"><img src=\"https://colab.research.google.com/assets/colab-badge.svg\" alt=\"Open In Colab\"/></a>"
      ]
    },
    {
      "cell_type": "markdown",
      "metadata": {
        "id": "t2pmqZ1sSALd"
      },
      "source": [
        "# Introducción a la programación - Señales y Sistemas\n",
        "\n",
        "- ## [Librería numpy](https://numpy.org/) (señales digitales discretas)\n",
        "\n",
        "- ## [Librería sympy](https://www.sympy.org/es/) (emular señales continuas)"
      ]
    },
    {
      "cell_type": "code",
      "metadata": {
        "colab": {
          "base_uri": "https://localhost:8080/"
        },
        "id": "US87snjyRzXO",
        "outputId": "7a0d124d-d9f6-46a2-c413-f209e1cdc7e5"
      },
      "source": [
        "import numpy as np # importar libreria numpy\n",
        "x = 30 #tipo int\n",
        "y = 36.5 #tipo float\n",
        "\n",
        "print(type(x),type(y)) #imprimir en pantalla"
      ],
      "execution_count": null,
      "outputs": [
        {
          "output_type": "stream",
          "name": "stdout",
          "text": [
            "<class 'int'> <class 'float'>\n"
          ]
        }
      ]
    },
    {
      "cell_type": "markdown",
      "metadata": {
        "id": "opLxJCCATLiT"
      },
      "source": [
        "# Arreglo de datos en numpy\n",
        "\n",
        "- Señales en continuo\n",
        "\n",
        "  $x(t) \\in \\mathbb{R}, \\mathbb{C}$\n",
        "\n",
        "  $t \\in \\mathbb{R}$\n",
        "\n",
        "- Señales discretas\n",
        "\n",
        "  $x[t_k] \\in \\mathbb{R}, \\mathbb{C}$  \n",
        "\n",
        "  $t \\in \\{t_0,t_1,\\dots,t_{K-1}\\}$; $K \\in \\mathbb{N}$ muestras\n",
        "\n",
        "- Señales digitales\n",
        "\n",
        "  $x[t_k] \\in \\{x_0,x_1,\\dots,x_{P-1}\\};$ $P\\in \\mathbb{N}$ estados según cantidad de bits del sistema de proceso\n",
        "\n",
        "  $t \\in \\{t_0,t_1,\\dots,t_{K-1}\\}$; $K \\in \\mathbb{N}$ muestras"
      ]
    },
    {
      "cell_type": "code",
      "metadata": {
        "colab": {
          "base_uri": "https://localhost:8080/"
        },
        "id": "_KJR2CT9St31",
        "outputId": "c530bbe4-2d4b-4e82-b769-c9f7f2c40a7a"
      },
      "source": [
        "xv = np.array([0,-2.5,10]) #crear array tipo vector\n",
        "xv"
      ],
      "execution_count": null,
      "outputs": [
        {
          "output_type": "execute_result",
          "data": {
            "text/plain": [
              "array([ 0. , -2.5, 10. ])"
            ]
          },
          "metadata": {},
          "execution_count": 41
        }
      ]
    },
    {
      "cell_type": "markdown",
      "metadata": {
        "id": "O59ypEVJYA7I"
      },
      "source": [
        "# Listas vs numpy array\n",
        "\n",
        "- Las listas pueden contener, números, strings, y en general objetos\n",
        "\n",
        "- Los array de numpy están pensados para procesar números (matrices, tensores)."
      ]
    },
    {
      "cell_type": "code",
      "metadata": {
        "colab": {
          "base_uri": "https://localhost:8080/"
        },
        "id": "rE08MvyIWHYQ",
        "outputId": "8327a18f-1efe-4959-dc6f-037e924e9e2d"
      },
      "source": [
        "xl = [0,-2,0.5] # no es señal digital -> lista de números\n",
        "xl"
      ],
      "execution_count": null,
      "outputs": [
        {
          "output_type": "execute_result",
          "data": {
            "text/plain": [
              "[0, -2, 0.5]"
            ]
          },
          "metadata": {},
          "execution_count": 42
        }
      ]
    },
    {
      "cell_type": "code",
      "metadata": {
        "colab": {
          "base_uri": "https://localhost:8080/"
        },
        "id": "tyZsVf7OYS5-",
        "outputId": "267b3974-def7-4dea-a7fb-c9b3b27ac080"
      },
      "source": [
        "xl = ['andres marino',0.5, 2] #lista de tres elementos con un string, un flotante y un entero\n",
        "xl"
      ],
      "execution_count": null,
      "outputs": [
        {
          "output_type": "execute_result",
          "data": {
            "text/plain": [
              "['andres marino', 0.5, 2]"
            ]
          },
          "metadata": {},
          "execution_count": 43
        }
      ]
    },
    {
      "cell_type": "markdown",
      "metadata": {
        "id": "vBsDHcmiZvGi"
      },
      "source": [
        "# Tamaños, indexación y graficar numpy array"
      ]
    },
    {
      "cell_type": "code",
      "metadata": {
        "colab": {
          "base_uri": "https://localhost:8080/"
        },
        "id": "8btm8xBUaLub",
        "outputId": "b39e1e93-6463-4731-c9c3-b2798675c886"
      },
      "source": [
        "xv.shape # vector con 3 elementos - > shape retorna la forma (tamaño del arreglo)"
      ],
      "execution_count": null,
      "outputs": [
        {
          "output_type": "execute_result",
          "data": {
            "text/plain": [
              "(3,)"
            ]
          },
          "metadata": {},
          "execution_count": 44
        }
      ]
    },
    {
      "cell_type": "code",
      "metadata": {
        "colab": {
          "base_uri": "https://localhost:8080/"
        },
        "id": "f0nctnPlb93K",
        "outputId": "95b52e85-9862-4911-c249-de8828b89c52"
      },
      "source": [
        "xm = np.array([[0,-2.5,10,4],[6,47,70,2],[8,10.2,-698,-0.9]]) #cada lista de números es tratada como una fila de la matriz\n",
        "xm"
      ],
      "execution_count": null,
      "outputs": [
        {
          "output_type": "execute_result",
          "data": {
            "text/plain": [
              "array([[   0. ,   -2.5,   10. ,    4. ],\n",
              "       [   6. ,   47. ,   70. ,    2. ],\n",
              "       [   8. ,   10.2, -698. ,   -0.9]])"
            ]
          },
          "metadata": {},
          "execution_count": 45
        }
      ]
    },
    {
      "cell_type": "code",
      "metadata": {
        "colab": {
          "base_uri": "https://localhost:8080/"
        },
        "id": "kTB4wdKtcRgr",
        "outputId": "0825b1c4-7334-46c9-9117-5dc1034d5e70"
      },
      "source": [
        "xm.shape"
      ],
      "execution_count": null,
      "outputs": [
        {
          "output_type": "execute_result",
          "data": {
            "text/plain": [
              "(3, 4)"
            ]
          },
          "metadata": {},
          "execution_count": 46
        }
      ]
    },
    {
      "cell_type": "markdown",
      "metadata": {
        "id": "ukUay7mOct5q"
      },
      "source": [
        "# En python se indexa desde 0"
      ]
    },
    {
      "cell_type": "code",
      "metadata": {
        "colab": {
          "base_uri": "https://localhost:8080/"
        },
        "id": "UnagirzXeKcP",
        "outputId": "d8b98f5c-3e9a-467b-868c-4a241d2f8af2"
      },
      "source": [
        "xv = np.array([-6,5,4.2,3,8,50,16])\n",
        "print(xv,xv.shape,xv[5])"
      ],
      "execution_count": null,
      "outputs": [
        {
          "output_type": "stream",
          "name": "stdout",
          "text": [
            "[-6.   5.   4.2  3.   8.  50.  16. ] (7,) 50.0\n"
          ]
        }
      ]
    },
    {
      "cell_type": "markdown",
      "metadata": {
        "id": "mpXNvhqrew-i"
      },
      "source": [
        "# En Python, cuando se indexa por rangos de valores, no se incluye el último elemento\n",
        "\n",
        "x[t_i,t_f)"
      ]
    },
    {
      "cell_type": "code",
      "metadata": {
        "colab": {
          "base_uri": "https://localhost:8080/"
        },
        "id": "W6f019owchUo",
        "outputId": "00fb6d8f-cb11-4363-e7c9-9477cc7a8c71"
      },
      "source": [
        "xv[1:5] # x[t_0] # no se incluye el elemento 5 que equivale a x[5] = 50"
      ],
      "execution_count": null,
      "outputs": [
        {
          "output_type": "execute_result",
          "data": {
            "text/plain": [
              "array([5. , 4.2, 3. , 8. ])"
            ]
          },
          "metadata": {},
          "execution_count": 48
        }
      ]
    },
    {
      "cell_type": "markdown",
      "metadata": {
        "id": "c_ppeaIJeDdY"
      },
      "source": [
        "*Cuando se piden todos los elementos hasta el final con el operador : si se incluye el último elemento*"
      ]
    },
    {
      "cell_type": "code",
      "metadata": {
        "colab": {
          "base_uri": "https://localhost:8080/"
        },
        "id": "Oj-ACwsSd44Z",
        "outputId": "ecff9c7e-4f4f-488a-a19c-705883c65547"
      },
      "source": [
        "# desde el segundo elemento hasta el ultimo\n",
        "print(xv)\n",
        "print(xv[1:])"
      ],
      "execution_count": null,
      "outputs": [
        {
          "output_type": "stream",
          "name": "stdout",
          "text": [
            "[-6.   5.   4.2  3.   8.  50.  16. ]\n",
            "[ 5.   4.2  3.   8.  50.  16. ]\n"
          ]
        }
      ]
    },
    {
      "cell_type": "code",
      "metadata": {
        "colab": {
          "base_uri": "https://localhost:8080/"
        },
        "id": "x4rDjGH9fikT",
        "outputId": "f0c6056c-a47e-46bc-ea05-bc5547f58fc0"
      },
      "source": [
        "#desde antes del tercer elmento hasta el principio\n",
        "print(xv)\n",
        "print(xv[:3])"
      ],
      "execution_count": null,
      "outputs": [
        {
          "output_type": "stream",
          "name": "stdout",
          "text": [
            "[-6.   5.   4.2  3.   8.  50.  16. ]\n",
            "[-6.   5.   4.2]\n"
          ]
        }
      ]
    },
    {
      "cell_type": "markdown",
      "metadata": {
        "id": "oRd9B5TBeZAD"
      },
      "source": [
        "# Para matrices se extiende la misma sintaxis para indexar vectores, pero separando la indexación por filas y por columnas"
      ]
    },
    {
      "cell_type": "code",
      "metadata": {
        "colab": {
          "base_uri": "https://localhost:8080/"
        },
        "id": "FNdwQZHvfwKo",
        "outputId": "6699b2f6-7149-42e0-a1ae-9212466347a7"
      },
      "source": [
        "print(xm)"
      ],
      "execution_count": null,
      "outputs": [
        {
          "output_type": "stream",
          "name": "stdout",
          "text": [
            "[[   0.    -2.5   10.     4. ]\n",
            " [   6.    47.    70.     2. ]\n",
            " [   8.    10.2 -698.    -0.9]]\n"
          ]
        }
      ]
    },
    {
      "cell_type": "code",
      "metadata": {
        "colab": {
          "base_uri": "https://localhost:8080/"
        },
        "id": "62ny4ZlRf9cq",
        "outputId": "cde6fca9-8442-4bf0-e398-67583feb8c73"
      },
      "source": [
        "xm[0:2,1:]"
      ],
      "execution_count": null,
      "outputs": [
        {
          "output_type": "execute_result",
          "data": {
            "text/plain": [
              "array([[-2.5, 10. ,  4. ],\n",
              "       [47. , 70. ,  2. ]])"
            ]
          },
          "metadata": {},
          "execution_count": 52
        }
      ]
    },
    {
      "cell_type": "code",
      "metadata": {
        "colab": {
          "base_uri": "https://localhost:8080/"
        },
        "id": "5pPPj3S6gIR2",
        "outputId": "ffc2c8cc-4d78-42e4-ac16-78628927b7f4"
      },
      "source": [
        "xm[0:2,0]"
      ],
      "execution_count": null,
      "outputs": [
        {
          "output_type": "execute_result",
          "data": {
            "text/plain": [
              "array([0., 6.])"
            ]
          },
          "metadata": {},
          "execution_count": 53
        }
      ]
    },
    {
      "cell_type": "code",
      "metadata": {
        "colab": {
          "base_uri": "https://localhost:8080/"
        },
        "id": "vfJ5mxXDhurG",
        "outputId": "55b9f81a-adaa-42a7-f3f3-b2fcd7a90fbe"
      },
      "source": [
        "xm[0,1:]"
      ],
      "execution_count": null,
      "outputs": [
        {
          "output_type": "execute_result",
          "data": {
            "text/plain": [
              "array([-2.5, 10. ,  4. ])"
            ]
          },
          "metadata": {},
          "execution_count": 54
        }
      ]
    },
    {
      "cell_type": "code",
      "metadata": {
        "colab": {
          "base_uri": "https://localhost:8080/"
        },
        "id": "EWX_gP3rh9Y3",
        "outputId": "971d5358-9f96-472c-fd0b-a3ea2b48898b"
      },
      "source": [
        "np.diag(xm)#diagonal del arreglo (matriz)"
      ],
      "execution_count": null,
      "outputs": [
        {
          "output_type": "execute_result",
          "data": {
            "text/plain": [
              "array([   0.,   47., -698.])"
            ]
          },
          "metadata": {},
          "execution_count": 55
        }
      ]
    },
    {
      "cell_type": "markdown",
      "metadata": {
        "id": "3fg6DJ5ViZBI"
      },
      "source": [
        "# Simular cero y pendiente  para acondicionamiento de señales\n",
        "\n",
        "- Se generará una función para emular el proceso de cero y pendiente en el acondicionamiento de señales.\n",
        "\n",
        "- Las funciones principales para generar vectores equiespaciados son [linspace](https://numpy.org/doc/stable/reference/generated/numpy.linspace.html), [range](https://www.w3schools.com/python/ref_func_range.asp) y [arange](https://numpy.org/doc/stable/reference/generated/numpy.arange.html)"
      ]
    },
    {
      "cell_type": "code",
      "metadata": {
        "colab": {
          "base_uri": "https://localhost:8080/"
        },
        "id": "QrjarvjViPOB",
        "outputId": "b4f118b2-2b30-4285-fd75-45934727664f",
        "collapsed": true
      },
      "source": [
        "# crear vector tiempo por rango y por número de muestras\n",
        "K = 200 # número de muestras\n",
        "ti = -15 # tiempo incial referencia [s]\n",
        "tf = 10 # tieimpo final  [s]\n",
        "# vector de tiempo equiespacioado\n",
        "tv = np.linspace(start=ti,stop=tf,num=K)\n",
        "print(tv)\n",
        "print(tv.shape)\n",
        "# tiempo muestreo se define según el rango de trabajo en segundos y la cantidad de muestras\n",
        "Ts = (tf - ti)/K\n",
        "print(Ts)"
      ],
      "execution_count": null,
      "outputs": [
        {
          "output_type": "stream",
          "name": "stdout",
          "text": [
            "[-15.         -14.87437186 -14.74874372 -14.62311558 -14.49748744\n",
            " -14.3718593  -14.24623116 -14.12060302 -13.99497487 -13.86934673\n",
            " -13.74371859 -13.61809045 -13.49246231 -13.36683417 -13.24120603\n",
            " -13.11557789 -12.98994975 -12.86432161 -12.73869347 -12.61306533\n",
            " -12.48743719 -12.36180905 -12.2361809  -12.11055276 -11.98492462\n",
            " -11.85929648 -11.73366834 -11.6080402  -11.48241206 -11.35678392\n",
            " -11.23115578 -11.10552764 -10.9798995  -10.85427136 -10.72864322\n",
            " -10.60301508 -10.47738693 -10.35175879 -10.22613065 -10.10050251\n",
            "  -9.97487437  -9.84924623  -9.72361809  -9.59798995  -9.47236181\n",
            "  -9.34673367  -9.22110553  -9.09547739  -8.96984925  -8.84422111\n",
            "  -8.71859296  -8.59296482  -8.46733668  -8.34170854  -8.2160804\n",
            "  -8.09045226  -7.96482412  -7.83919598  -7.71356784  -7.5879397\n",
            "  -7.46231156  -7.33668342  -7.21105528  -7.08542714  -6.95979899\n",
            "  -6.83417085  -6.70854271  -6.58291457  -6.45728643  -6.33165829\n",
            "  -6.20603015  -6.08040201  -5.95477387  -5.82914573  -5.70351759\n",
            "  -5.57788945  -5.45226131  -5.32663317  -5.20100503  -5.07537688\n",
            "  -4.94974874  -4.8241206   -4.69849246  -4.57286432  -4.44723618\n",
            "  -4.32160804  -4.1959799   -4.07035176  -3.94472362  -3.81909548\n",
            "  -3.69346734  -3.5678392   -3.44221106  -3.31658291  -3.19095477\n",
            "  -3.06532663  -2.93969849  -2.81407035  -2.68844221  -2.56281407\n",
            "  -2.43718593  -2.31155779  -2.18592965  -2.06030151  -1.93467337\n",
            "  -1.80904523  -1.68341709  -1.55778894  -1.4321608   -1.30653266\n",
            "  -1.18090452  -1.05527638  -0.92964824  -0.8040201   -0.67839196\n",
            "  -0.55276382  -0.42713568  -0.30150754  -0.1758794   -0.05025126\n",
            "   0.07537688   0.20100503   0.32663317   0.45226131   0.57788945\n",
            "   0.70351759   0.82914573   0.95477387   1.08040201   1.20603015\n",
            "   1.33165829   1.45728643   1.58291457   1.70854271   1.83417085\n",
            "   1.95979899   2.08542714   2.21105528   2.33668342   2.46231156\n",
            "   2.5879397    2.71356784   2.83919598   2.96482412   3.09045226\n",
            "   3.2160804    3.34170854   3.46733668   3.59296482   3.71859296\n",
            "   3.84422111   3.96984925   4.09547739   4.22110553   4.34673367\n",
            "   4.47236181   4.59798995   4.72361809   4.84924623   4.97487437\n",
            "   5.10050251   5.22613065   5.35175879   5.47738693   5.60301508\n",
            "   5.72864322   5.85427136   5.9798995    6.10552764   6.23115578\n",
            "   6.35678392   6.48241206   6.6080402    6.73366834   6.85929648\n",
            "   6.98492462   7.11055276   7.2361809    7.36180905   7.48743719\n",
            "   7.61306533   7.73869347   7.86432161   7.98994975   8.11557789\n",
            "   8.24120603   8.36683417   8.49246231   8.61809045   8.74371859\n",
            "   8.86934673   8.99497487   9.12060302   9.24623116   9.3718593\n",
            "   9.49748744   9.62311558   9.74874372   9.87437186  10.        ]\n",
            "(200,)\n",
            "0.125\n"
          ]
        }
      ]
    },
    {
      "cell_type": "markdown",
      "metadata": {
        "id": "BDLYDuPdkyZE"
      },
      "source": [
        "- Supongamos la función cuadrática:\n",
        "\n",
        "$x(t) = a t^2 + b;$\n",
        "\n",
        "$\\forall t \\in [t_i,t_f]$\n",
        "\n",
        "- Se pretende generar el proceso de discretización según:\n",
        "\n",
        "$x[t_k] = a t_k^2 + b$\n",
        "\n",
        "\n",
        "\n"
      ]
    },
    {
      "cell_type": "code",
      "metadata": {
        "colab": {
          "base_uri": "https://localhost:8080/"
        },
        "id": "4LzvHXKeiwwE",
        "outputId": "1c2e272a-d07f-4f66-b6ff-a0aa76af17d5",
        "collapsed": true
      },
      "source": [
        "#parámetros parabola\n",
        "a = 4\n",
        "b = -3\n",
        "xv = a*(tv**2) + b # creamos parabola en tiempo discreto-> **  pontencia\n",
        "print(xv)\n",
        "print(xv.shape)"
      ],
      "execution_count": null,
      "outputs": [
        {
          "output_type": "stream",
          "name": "stdout",
          "text": [
            "[ 8.97000000e+02  8.81987753e+02  8.67101765e+02  8.52342037e+02\n",
            "  8.37708568e+02  8.23201359e+02  8.08820409e+02  7.94565718e+02\n",
            "  7.80437287e+02  7.66435115e+02  7.52559203e+02  7.38809550e+02\n",
            "  7.25186157e+02  7.11689023e+02  6.98318149e+02  6.85073533e+02\n",
            "  6.71955178e+02  6.58963082e+02  6.46097245e+02  6.33357668e+02\n",
            "  6.20744350e+02  6.08257291e+02  5.95896493e+02  5.83661953e+02\n",
            "  5.71553673e+02  5.59571652e+02  5.47715891e+02  5.35986389e+02\n",
            "  5.24383147e+02  5.12906164e+02  5.01555441e+02  4.90330976e+02\n",
            "  4.79232772e+02  4.68260827e+02  4.57415141e+02  4.46695715e+02\n",
            "  4.36102548e+02  4.25635641e+02  4.15294993e+02  4.05080604e+02\n",
            "  3.94992475e+02  3.85030605e+02  3.75194995e+02  3.65485644e+02\n",
            "  3.55902553e+02  3.46445721e+02  3.37115149e+02  3.27910836e+02\n",
            "  3.18832782e+02  3.09880988e+02  3.01055453e+02  2.92356178e+02\n",
            "  2.83783162e+02  2.75336406e+02  2.67015909e+02  2.58821671e+02\n",
            "  2.50753693e+02  2.42811974e+02  2.34996515e+02  2.27307315e+02\n",
            "  2.19744375e+02  2.12307694e+02  2.04997273e+02  1.97813111e+02\n",
            "  1.90755208e+02  1.83823565e+02  1.77018181e+02  1.70339057e+02\n",
            "  1.63786192e+02  1.57359587e+02  1.51059241e+02  1.44885154e+02\n",
            "  1.38837327e+02  1.32915760e+02  1.27120452e+02  1.21451403e+02\n",
            "  1.15908613e+02  1.10492084e+02  1.05201813e+02  1.00037802e+02\n",
            "  9.50000505e+01  9.00885584e+01  8.53033257e+01  8.06443524e+01\n",
            "  7.61116386e+01  7.17051842e+01  6.74249893e+01  6.32710538e+01\n",
            "  5.92433777e+01  5.53419611e+01  5.15668039e+01  4.79179061e+01\n",
            "  4.43952678e+01  4.09988889e+01  3.77287695e+01  3.45849095e+01\n",
            "  3.15673089e+01  2.86759678e+01  2.59108861e+01  2.32720638e+01\n",
            "  2.07595010e+01  1.83731976e+01  1.61131537e+01  1.39793692e+01\n",
            "  1.19718441e+01  1.00905785e+01  8.33557233e+00  6.70682559e+00\n",
            "  5.20433827e+00  3.82811040e+00  2.57814197e+00  1.45443297e+00\n",
            "  4.56983410e-01 -4.14206712e-01 -1.15913740e+00 -1.77780864e+00\n",
            " -2.27022045e+00 -2.63637282e+00 -2.87626575e+00 -2.98989924e+00\n",
            " -2.97727330e+00 -2.83838792e+00 -2.57324310e+00 -2.18183884e+00\n",
            " -1.66417515e+00 -1.02025201e+00 -2.50069443e-01  6.46372566e-01\n",
            "  1.66907401e+00  2.81803490e+00  4.09325522e+00  5.49473498e+00\n",
            "  7.02247418e+00  8.67647282e+00  1.04567309e+01  1.23632484e+01\n",
            "  1.43960254e+01  1.65550617e+01  1.88403576e+01  2.12519128e+01\n",
            "  2.37897275e+01  2.64538017e+01  2.92441352e+01  3.21607283e+01\n",
            "  3.52035807e+01  3.83726926e+01  4.16680639e+01  4.50896947e+01\n",
            "  4.86375849e+01  5.23117346e+01  5.61121436e+01  6.00388122e+01\n",
            "  6.40917401e+01  6.82709275e+01  7.25763743e+01  7.70080806e+01\n",
            "  8.15660463e+01  8.62502715e+01  9.10607560e+01  9.59975001e+01\n",
            "  1.01060504e+02  1.06249766e+02  1.11565289e+02  1.17007071e+02\n",
            "  1.22575112e+02  1.28269412e+02  1.34089972e+02  1.40036792e+02\n",
            "  1.46109871e+02  1.52309209e+02  1.58634807e+02  1.65086664e+02\n",
            "  1.71664781e+02  1.78369157e+02  1.85199793e+02  1.92156688e+02\n",
            "  1.99239842e+02  2.06449256e+02  2.13784930e+02  2.21246862e+02\n",
            "  2.28835055e+02  2.36549506e+02  2.44390217e+02  2.52357188e+02\n",
            "  2.60450418e+02  2.68669907e+02  2.77015656e+02  2.85487664e+02\n",
            "  2.94085932e+02  3.02810459e+02  3.11661246e+02  3.20638292e+02\n",
            "  3.29741597e+02  3.38971162e+02  3.48326987e+02  3.57809070e+02\n",
            "  3.67417414e+02  3.77152016e+02  3.87012878e+02  3.97000000e+02]\n",
            "(200,)\n"
          ]
        }
      ]
    },
    {
      "cell_type": "code",
      "metadata": {
        "colab": {
          "base_uri": "https://localhost:8080/",
          "height": 449
        },
        "id": "CikgadYnljWq",
        "outputId": "466b9b2e-eab1-41eb-bc80-4ea130f3f8f6"
      },
      "source": [
        "import matplotlib.pyplot as plt #librería para gráficas básicas en python\n",
        "\n",
        "plt.plot(tv,xv,'r.') #vector en eje horizontal, vector eje vertical, color y marcador\n",
        "plt.xlabel('tiempo [s]')\n",
        "plt.ylabel('$x[t_k]$') # $ $ ecuación latex\n",
        "plt.show() #mostrar gráfica"
      ],
      "execution_count": null,
      "outputs": [
        {
          "output_type": "display_data",
          "data": {
            "text/plain": [
              "<Figure size 640x480 with 1 Axes>"
            ],
            "image/png": "[encoded data removed]"
          },
          "metadata": {}
        }
      ]
    },
    {
      "cell_type": "markdown",
      "metadata": {
        "id": "W46sUb3AGP81"
      },
      "source": [
        "## Cálculo de pendiente y del offset (cero)\n",
        "\n",
        "$$ y[t_k] \\in [y_{min},y_{max}]$$\n",
        "\n",
        "$$y[t_k] = m x[t_k] + c$$\n",
        "\n",
        "$$m = \\frac{y_{max}-y_{min}}{x_{max}-x_{min}}$$\n",
        "\n",
        "$$c = y[t_k] - m x[t_k]$$\n",
        "\n",
        "- Se crea un código tipo función bajo el ambiente def, para generar el cero y pendiente según los valores $y_{max}$ y $y_{min}$ definidos por el usuario."
      ]
    },
    {
      "cell_type": "code",
      "metadata": {
        "id": "ozcRD-a1mlcf"
      },
      "source": [
        "y_min = 0 # valor min después de cero y pendiente\n",
        "y_max = 5 # valor max después de cero y pendiente\n",
        "#crear funcion en python\n",
        "def my_ceropen(x,ymin = -5, ymax = 5): #en general se pueden definir valores por defecto\n",
        "  '''\n",
        "  Codigo base para simular proceso de cero y pendiente\n",
        "  Se ingresa arreglo de numpy y los valores min  y max despues de cero y pendiente\n",
        "  '''\n",
        "  xmax = max(x) # x.max()\n",
        "  xmin = min(x) # x.min()\n",
        "  m = (ymax - ymin)/(xmax - xmin)\n",
        "  c = ymin - m*xmin\n",
        "  yv = m*x + c\n",
        "  return yv"
      ],
      "execution_count": null,
      "outputs": []
    },
    {
      "cell_type": "code",
      "metadata": {
        "id": "VePiF__hKrsp"
      },
      "source": [
        "yv = my_ceropen(xv,ymin=-15,ymax=20) #se llama la función definida en la celda anterior"
      ],
      "execution_count": null,
      "outputs": []
    },
    {
      "cell_type": "code",
      "metadata": {
        "colab": {
          "base_uri": "https://localhost:8080/"
        },
        "id": "S3GcTF_hKQ-R",
        "outputId": "2f9c305d-87d5-4d06-95c5-b1f2c3e36044",
        "collapsed": true
      },
      "source": [
        "print(yv)\n",
        "print(yv.shape)"
      ],
      "execution_count": null,
      "outputs": [
        {
          "output_type": "stream",
          "name": "stdout",
          "text": [
            "[ 20.          19.41618384  18.83727782  18.26328194  17.69419621\n",
            "  17.13002062  16.57075518  16.01639988  15.46695473  14.92241972\n",
            "  14.38279485  13.84808013  13.31827556  12.79338113  12.27339684\n",
            "  11.75832269  11.2481587   10.74290484  10.24256113   9.74712757\n",
            "   9.25660414   8.77099087   8.29028773   7.81449475   7.3436119\n",
            "   6.8776392    6.41657665   5.96042424   5.50918197   5.06284985\n",
            "   4.62142787   4.18491604   3.75331435   3.3266228    2.9048414\n",
            "   2.48797015   2.07600903   1.66895807   1.26681724   0.86958657\n",
            "   0.47726603   0.08985564  -0.2926446   -0.6702347   -1.04291466\n",
            "  -1.41068447  -1.77354414  -2.13149367  -2.48453305  -2.83266228\n",
            "  -3.17588137  -3.51419032  -3.84758912  -4.17607778  -4.49965629\n",
            "  -4.81832466  -5.13208288  -5.44093096  -5.7448689   -6.04389669\n",
            "  -6.33801434  -6.62722184  -6.9115192   -7.19090641  -7.46538348\n",
            "  -7.73495041  -7.99960719  -8.25935383  -8.51419032  -8.76411667\n",
            "  -9.00913287  -9.24923893  -9.48443484  -9.71472061  -9.94009624\n",
            " -10.16056172 -10.37611706 -10.58676225 -10.7924973  -10.9933222\n",
            " -11.18923696 -11.38024158 -11.56633605 -11.74752038 -11.92379456\n",
            " -12.0951586  -12.26161249 -12.42315624 -12.57978985 -12.73151331\n",
            " -12.87832662 -13.02022979 -13.15722282 -13.28930571 -13.41647844\n",
            " -13.53874104 -13.65609349 -13.76853579 -13.87606796 -13.97868997\n",
            " -14.07640185 -14.16920357 -14.25709516 -14.3400766  -14.41814789\n",
            " -14.49130904 -14.55956005 -14.62290091 -14.68133163 -14.7348522\n",
            " -14.78346263 -14.82716292 -14.86595306 -14.89983306 -14.92880291\n",
            " -14.95286261 -14.97201218 -14.9862516  -14.99558087 -15.\n",
            " -14.99950899 -14.99410783 -14.98379652 -14.96857508 -14.94844348\n",
            " -14.92340175 -14.89344987 -14.85858784 -14.81881567 -14.77413336\n",
            " -14.7245409  -14.6700383  -14.61062555 -14.54630266 -14.47706963\n",
            " -14.40292645 -14.32387312 -14.23990965 -14.15103604 -14.05725228\n",
            " -13.95855838 -13.85495434 -13.74644015 -13.63301581 -13.51468133\n",
            " -13.39143671 -13.26328194 -13.13021703 -12.99224197 -12.84935677\n",
            " -12.70156143 -12.54885594 -12.3912403  -12.22871452 -12.0612786\n",
            " -11.88893253 -11.71167632 -11.52950997 -11.34243347 -11.15044682\n",
            " -10.95355003 -10.7517431  -10.54502602 -10.3333988  -10.11686144\n",
            "  -9.89541393  -9.66905627  -9.43778847  -9.20161053  -8.96052244\n",
            "  -8.71452421  -8.46361583  -8.20779731  -7.94706864  -7.68142983\n",
            "  -7.41088088  -7.13542178  -6.85505254  -6.56977315  -6.27958362\n",
            "  -5.98448394  -5.68447412  -5.37955416  -5.06972405  -4.7549838\n",
            "  -4.4353334   -4.11077286  -3.78130217  -3.44692134  -3.10763036\n",
            "  -2.76342924  -2.41431798  -2.06029657  -1.70136502  -1.33752332\n",
            "  -0.96877148  -0.5951095   -0.21653737   0.16694491   0.55533733]\n",
            "(200,)\n"
          ]
        }
      ]
    },
    {
      "cell_type": "markdown",
      "metadata": {
        "id": "ivhBguGggNta"
      },
      "source": [
        "- Se grafican la señal original y la señal acondicionada mediante [subplot](https://matplotlib.org/stable/api/_as_gen/matplotlib.pyplot.subplot.html)"
      ]
    },
    {
      "cell_type": "code",
      "metadata": {
        "colab": {
          "base_uri": "https://localhost:8080/",
          "height": 449
        },
        "id": "NasBtR71LtRO",
        "outputId": "3152e3cc-0174-47ce-d464-e3198bfb5adf"
      },
      "source": [
        "plt.subplot(121) # 1 = #filas, 2 = #columnas, 1 = # dibujo\n",
        "plt.plot(tv,xv,'r.')\n",
        "plt.xlabel('tiempo [s]')\n",
        "plt.ylabel('$x[t_k]$')\n",
        "\n",
        "plt.subplot(122)\n",
        "plt.plot(tv,yv,'b.')\n",
        "plt.xlabel('tiempo [s]')\n",
        "plt.ylabel('$y[t_k]$')\n",
        "plt.subplots_adjust(hspace=0.5,wspace=0.5) #ajustar espaciado entre gráficas\n",
        "plt.show()"
      ],
      "execution_count": null,
      "outputs": [
        {
          "output_type": "display_data",
          "data": {
            "text/plain": [
              "<Figure size 640x480 with 2 Axes>"
            ],
            "image/png": "[encoded data removed]"
          },
          "metadata": {}
        }
      ]
    },
    {
      "cell_type": "code",
      "metadata": {
        "colab": {
          "base_uri": "https://localhost:8080/",
          "height": 467
        },
        "id": "Bjy3fBQYQHAH",
        "outputId": "2a1d14f1-9d6b-4b36-c9ad-c738c0104ce9"
      },
      "source": [
        "plt.plot(tv,xv,'r.')\n",
        "plt.xlabel('tiempo [s]')\n",
        "plt.ylabel('$x[t_k]$')"
      ],
      "execution_count": null,
      "outputs": [
        {
          "output_type": "execute_result",
          "data": {
            "text/plain": [
              "Text(0, 0.5, '$x[t_k]$')"
            ]
          },
          "metadata": {},
          "execution_count": 63
        },
        {
          "output_type": "display_data",
          "data": {
            "text/plain": [
              "<Figure size 640x480 with 1 Axes>"
            ],
            "image/png": "[encoded data removed]"
          },
          "metadata": {}
        }
      ]
    },
    {
      "cell_type": "code",
      "metadata": {
        "id": "XrYen-2PSNEm",
        "colab": {
          "base_uri": "https://localhost:8080/",
          "height": 467
        },
        "outputId": "92533709-57ee-4265-eb76-3e16b8eb5a77"
      },
      "source": [
        "plt.plot(tv,yv,'b.')\n",
        "plt.xlabel('tiempo [s]')\n",
        "plt.ylabel('$y[t_k]$')"
      ],
      "execution_count": null,
      "outputs": [
        {
          "output_type": "execute_result",
          "data": {
            "text/plain": [
              "Text(0, 0.5, '$y[t_k]$')"
            ]
          },
          "metadata": {},
          "execution_count": 64
        },
        {
          "output_type": "display_data",
          "data": {
            "text/plain": [
              "<Figure size 640x480 with 1 Axes>"
            ],
            "image/png": "[encoded data removed]"
          },
          "metadata": {}
        }
      ]
    },
    {
      "cell_type": "markdown",
      "metadata": {
        "id": "W7BApRWrUP7S"
      },
      "source": [
        "- Se ilustra nuevamente el proceso de acondicionamiento cero y pendiente utilizando una función seno:\n",
        "\n",
        "$$x[t_k] = A \\sin[w_o t + \\phi]$$\n",
        "\n",
        "$$x[t_k] = A \\sin[2 \\pi F_o t] = A \\sin[2 \\pi t / T_o ]$$\n",
        "\n"
      ]
    },
    {
      "cell_type": "code",
      "metadata": {
        "id": "PkSh1s79SPfY",
        "colab": {
          "base_uri": "https://localhost:8080/",
          "height": 449
        },
        "outputId": "79d7ae98-0fc2-4922-edf5-e9981844cbe4"
      },
      "source": [
        "K = 500 # número de muestras\n",
        "T_o = 1/60 # periodo función sin\n",
        "A = 120 # amplitud\n",
        "ti = 0 #tiempo inicial\n",
        "tf = T_o #tiempo final\n",
        "tv = np.linspace(ti,tf,num=K) #vector de datos en tiempo\n",
        "xv = A * np.sin(2*np.pi*tv/T_o) #vector de amplitud\n",
        "\n",
        "plt.plot(tv,xv)\n",
        "plt.xlabel('tiempo [s]')\n",
        "plt.ylabel('$A\\sin[\\omega t_k]$')\n",
        "plt.show()"
      ],
      "execution_count": null,
      "outputs": [
        {
          "output_type": "display_data",
          "data": {
            "text/plain": [
              "<Figure size 640x480 with 1 Axes>"
            ],
            "image/png": "[encoded data removed]"
          },
          "metadata": {}
        }
      ]
    },
    {
      "cell_type": "code",
      "metadata": {
        "id": "aOjjW9cqU1AO"
      },
      "source": [
        "yv = my_ceropen(xv,ymin=0,ymax=5) #se utiliza la función ya creada de cero y pendiente"
      ],
      "execution_count": null,
      "outputs": []
    },
    {
      "cell_type": "code",
      "metadata": {
        "id": "pXcD2X2RVvOZ",
        "colab": {
          "base_uri": "https://localhost:8080/",
          "height": 449
        },
        "outputId": "828ebc36-6350-4e24-d0aa-c145385bd5aa"
      },
      "source": [
        "plt.subplot(121) # 1 = #filas, 2 = #columnas, 1 = # dibujo\n",
        "plt.plot(tv,xv,'r.')\n",
        "plt.xlabel('tiempo [s]')\n",
        "plt.ylabel('$x[t_k]$')\n",
        "\n",
        "plt.subplot(122)\n",
        "plt.plot(tv,yv,'b.')\n",
        "plt.xlabel('tiempo [s]')\n",
        "plt.ylabel('$y[t_k]$')\n",
        "plt.subplots_adjust(hspace=0.5,wspace=0.5)\n",
        "plt.show()"
      ],
      "execution_count": null,
      "outputs": [
        {
          "output_type": "display_data",
          "data": {
            "text/plain": [
              "<Figure size 640x480 with 2 Axes>"
            ],
            "image/png": "[encoded data removed]"
          },
          "metadata": {}
        }
      ]
    },
    {
      "cell_type": "markdown",
      "metadata": {
        "id": "FIwsqyUVhBfk"
      },
      "source": [
        "# Ejercicio:\n",
        "\n",
        "- Después de acondicionar las señales ilustradas en el presente cuaderno, simule un proceso de discretización con $F_s \\geq 2 F_o.$ Dibuje el resultado de la señal discretizada utilizando la función [stem](https://matplotlib.org/3.1.1/api/_as_gen/matplotlib.pyplot.stem.html).\n",
        "\n",
        "- Consultar el funcionamiento de los métodos [cdist](https://docs.scipy.org/doc/scipy/reference/generated/scipy.spatial.distance.cdist.html) y [argmin](https://numpy.org/doc/stable/reference/generated/numpy.argmin.html).\n",
        "\n",
        "- Realice una función mediante el ambiente def que permita realizar los procesos de discretización y cuantización (usando cdist y argmin) en cascada para un conversor análogo-digital de 3 bits con entrada análoga de 0 a 10 [v]. Presente las gráficas de la señal original, señal con cero y pendiente, señal discretizada, y señal digital."
      ]
    },
    {
      "cell_type": "markdown",
      "metadata": {
        "id": "vvEVi-HfW2Ar"
      },
      "source": [
        "**Ayuda para el ejercicio**: a continuación se presenta el funcionamiento de las funciones cdist y argmin"
      ]
    },
    {
      "cell_type": "code",
      "metadata": {
        "id": "mIdCdgAyV0KV",
        "colab": {
          "base_uri": "https://localhost:8080/"
        },
        "outputId": "67fd254c-232f-419a-e5f6-7f51fb9cea93"
      },
      "source": [
        "#Ejemplo de señal despues de cero y pendiente y discretización\n",
        "#Recuerde que el proceso de discretización debe ser implementado\n",
        "from scipy.spatial.distance import cdist\n",
        "\n",
        "#señal original\n",
        "Fo = 60\n",
        "To = 1/60\n",
        "A = 120\n",
        "Fs = 500 #asegurar nyquist\n",
        "Ts = 1/Fs\n",
        "tv = np.arange(0,2*To,Ts)#procesar dos periodos discretizados\n",
        "y = A*np.cos(2*np.pi*Fo*tv)\n",
        "\n",
        "#cero y pendiente\n",
        "ycs = my_ceropen(y, ymin=0,ymax=10)\n",
        "\n",
        "#número de bits y vector de cuantización\n",
        "nbits = 3\n",
        "rmin = 0\n",
        "rmax = 10\n",
        "ve = np.linspace(rmin,rmax,2**nbits) # (rmax-rmin)/(2^#bits - 1) -> si se quiere incluir rmin y rmax\n",
        "\n",
        "#distancias y cero pendiente a vector cuantizacion\n",
        "d = cdist(ycs.reshape(-1,1),ve.reshape(-1,1)) #se utiliza reshape(-1,1) para generar vectores columna como lo pide cdist\n",
        "d.shape # d es una matriz de 500 x 8, ej: la fila 1 incluye la distancia euclidea entre y[0] y los 8 elementos en ve"
      ],
      "execution_count": null,
      "outputs": [
        {
          "output_type": "execute_result",
          "data": {
            "text/plain": [
              "(17, 8)"
            ]
          },
          "metadata": {},
          "execution_count": 68
        }
      ]
    },
    {
      "cell_type": "code",
      "metadata": {
        "id": "NQ0G1xgxXU7s",
        "colab": {
          "base_uri": "https://localhost:8080/"
        },
        "outputId": "3511712e-16e5-42b7-fc0a-4b3a4293b1d3"
      },
      "source": [
        "#se requiere identificar el elemento ve[j] más cercano a y[i] para genera señal cuantizada\n",
        "ind = np.argmin(d,axis=1) #el parámetro axis = 1 indica que busca la posición a lo largo de las columnas del elemento más pequeño en cada fila\n",
        "ind"
      ],
      "execution_count": null,
      "outputs": [
        {
          "output_type": "execute_result",
          "data": {
            "text/plain": [
              "array([7, 6, 4, 1, 0, 1, 3, 5, 7, 7, 5, 2, 0, 0, 2, 5, 7])"
            ]
          },
          "metadata": {},
          "execution_count": 69
        }
      ]
    },
    {
      "cell_type": "code",
      "metadata": {
        "id": "tg14ZzF4X1WM",
        "colab": {
          "base_uri": "https://localhost:8080/"
        },
        "outputId": "b3d402a7-ca88-485a-8cb0-9a4b31800b3d"
      },
      "source": [
        "print(ycs[1],ind[1],ve[ind[1]]) # para y[50] = 0.58, el estado más cercano en ve es el elemento 1 que corresponde a ve[1]=0.71"
      ],
      "execution_count": null,
      "outputs": [
        {
          "output_type": "stream",
          "name": "stdout",
          "text": [
            "8.639479080196782 6 8.571428571428571\n"
          ]
        }
      ]
    },
    {
      "cell_type": "markdown",
      "source": [
        "Podemos crear una función de cuantización y evaluarla punto a punto a partir de cada muestra después de cero y spam discretizada"
      ],
      "metadata": {
        "id": "Ef_22hrCpBNk"
      }
    },
    {
      "cell_type": "code",
      "source": [
        "#función cuantización punto a punto\n",
        "\n",
        "def my_cuantizador(yn, vq) : #yn punto a #cuantizar, vq vector de estados\n",
        "\n",
        "  Ne = vq.shape[0] #tamaño vector de estados\n",
        "  dn = cdist(yn.reshape(-1,1),vq.reshape(-1,1))#distancia yn a vector estados, reshape(-1,1) asegura vectores columna para poder utilizar cdist\n",
        "  ind = np.argmin(dn) #posición distancia min\n",
        "  return vq[ind]"
      ],
      "metadata": {
        "id": "RBDdgf2Ro-w_"
      },
      "execution_count": null,
      "outputs": []
    },
    {
      "cell_type": "code",
      "metadata": {
        "id": "7vKtTlR0Q6dd"
      },
      "source": [
        "#recorrer vector cero y spam discretizado para cuantizar\n",
        "\n",
        "for i in range(ycs.shape[0]):\n",
        "   if i==0: #primera muestra\n",
        "     yq = my_cuantizador(ycs[i],ve)\n",
        "   else:\n",
        "     yq = np.append(yq,my_cuantizador(ycs[i],ve)) #apilar datos cuantizando si i>0"
      ],
      "execution_count": null,
      "outputs": []
    },
    {
      "cell_type": "code",
      "source": [
        "#graficar señales\n",
        "\n",
        "plt.plot(tv,ycs,c='r', label='ycs')#cs continua\n",
        "\n",
        "plt.stem(tv,ycs, label='ycs_dis')#cs discreta\n",
        "\n",
        "#estados de cuantización\n",
        "\n",
        "for v in ve:\n",
        "  plt.plot(tv,v*np.ones(len(tv)))\n",
        "\n",
        "# graficar señal Digital (discreta + cuantizada)\n",
        "\n",
        "plt.plot(tv,yq,c='y',marker='o',label='ydig', linewidth=2)\n",
        "\n",
        "plt.legend()\n",
        "plt.grid()\n",
        "plt.xlabel('t')\n",
        "plt.ylabel('Amplitud')\n",
        "plt.show()"
      ],
      "metadata": {
        "id": "h7vqF-WLrOKB",
        "outputId": "7f009e7d-6f51-4025-e867-74e81868d205",
        "colab": {
          "base_uri": "https://localhost:8080/",
          "height": 449
        }
      },
      "execution_count": null,
      "outputs": [
        {
          "output_type": "display_data",
          "data": {
            "text/plain": [
              "<Figure size 640x480 with 1 Axes>"
            ],
            "image/png": "[encoded data removed]"
          },
          "metadata": {}
        }
      ]
    },
    {
      "cell_type": "markdown",
      "source": [
        "# probar:\n",
        "-8 bits\n",
        "x(t)=cos(t/3)+cos(t/4)\n",
        "* A/D: Entrada de -3.3 v a +3.3 v\n",
        "*\n",
        "Fs=500 Hz\n",
        "\n"
      ],
      "metadata": {
        "id": "0RwWBSXXvOj2"
      }
    },
    {
      "cell_type": "code",
      "source": [
        "T_1=6*np.pi\n",
        "T_2=6*np.pi\n",
        "A=1\n",
        "ti=0\n",
        "tf=4*T_1\n",
        "w1=2*np.pi/T_1\n",
        "w2=2*np.pi/T_2\n",
        "Fs=100\n",
        "Ts=1/Fs\n",
        "tv =np.linspace(ti,tf,Ts)\n",
        "y=A*(np.cos(w1*tv)+np.cos(w2*tv))\n",
        "#cero y pendiente\n",
        "ymin=-3.3\n",
        "ymax=3.3\n",
        "nbits = 8\n",
        "ycs=my_ceropen(y,ymin=ymin,ymax=ymax)\n",
        "ve = np.linspace(ymin,ymax,2**nbits)\n",
        "for i in range(ycs.shape[0]):\n",
        "   if i==0: #primera muestra\n",
        "     yq = my_cuantizador(ycs[i],ve)\n",
        "   else:\n",
        "    yq = np.append(yq,my_cuantizador(ycs[i],ve))\n",
        "\n",
        "\n",
        "plt.plot(tv,y,label='y(t)')\n",
        "plt.plot(tv,ycs,label='ycp(t)')\n",
        "plt.xlabel('t')\n",
        "plt.plot(tv,yq,label='yq(t)')\n",
        "plt.legend()\n",
        "plt.grid()\n",
        "\n",
        "plt.ylabel('Amplitud')\n",
        "plt.show()\n",
        "\n"
      ],
      "metadata": {
        "id": "nOpXMZpqladf"
      },
      "execution_count": null,
      "outputs": []
    }
  ]
}